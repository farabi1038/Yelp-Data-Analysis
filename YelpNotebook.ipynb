{
 "metadata": {
  "name": "",
  "signature": "sha256:b7fa7c33956e1f2340311430a925f038be013ca5a34ab311205612c838fbb101"
 },
 "nbformat": 3,
 "nbformat_minor": 0,
 "worksheets": [
  {
   "cells": [
    {
     "cell_type": "code",
     "collapsed": false,
     "input": [
      "import json\n",
      "import pandas as pd\n",
      "from glob import glob"
     ],
     "language": "python",
     "metadata": {},
     "outputs": [],
     "prompt_number": 1
    },
    {
     "cell_type": "code",
     "collapsed": false,
     "input": [
      "\n",
      "with open('sample.json') as json_file:\n",
      "    json_data = json.load(json_file)\n",
      "    print(json_data)\n"
     ],
     "language": "python",
     "metadata": {},
     "outputs": [
      {
       "output_type": "stream",
       "stream": "stdout",
       "text": [
        "{u'city': u'Glendale', u'review_count': 3, u'name': u\"Sam's Club Members Only\", u'neighborhoods': [], u'type': u'business', u'business_id': u'QbrM7wqtmoNncqjc6GtFaQ', u'full_address': u'18501 N 83rd Avenue\\nGlendale, AZ 85308', u'hours': {}, u'state': u'AZ', u'longitude': -112.2347549, u'stars': 3.5, u'latitude': 33.6485453, u'attributes': {u'Accepts Credit Cards': True, u'Price Range': 2, u'Parking': {u'garage': False, u'street': False, u'validated': False, u'lot': False, u'valet': False}}, u'open': True, u'categories': [u'Tires', u'Automotive', u'Fashion', u'Shopping', u'Department Stores']}\n"
       ]
      }
     ],
     "prompt_number": 5
    },
    {
     "cell_type": "code",
     "collapsed": false,
     "input": [
      "'''\n",
      "https://gist.github.com/paulgb/5265767\n",
      "'''\n",
      " \n",
      "def convert(x):\n",
      "    ''' Convert a json string to a flat python dictionary\n",
      "    which can be passed into Pandas. '''\n",
      "    ob = json.loads(x)\n",
      "    for k, v in ob.items():\n",
      "        if isinstance(v, list):\n",
      "            ob[k] = ','.join(str(v))\n",
      "        elif isinstance(v, dict):\n",
      "            for kk, vv in v.items():\n",
      "                ob['%s_%s' % (k, kk)] = vv\n",
      "            del ob[k]\n",
      "    return ob\n",
      " \n",
      "for json_filename in glob('*.json'):\n",
      "    csv_filename = '%s.csv' % json_filename[:-5]\n",
      "    print 'Converting %s to %s' % (json_filename, csv_filename)\n",
      "    df = pd.DataFrame([convert(line) for line in file(json_filename)])\n",
      "    df.to_csv(csv_filename, encoding='utf-8', index=False)"
     ],
     "language": "python",
     "metadata": {},
     "outputs": [
      {
       "output_type": "stream",
       "stream": "stdout",
       "text": [
        "Converting sample.json to sample.csv\n",
        "Converting yelp_academic_dataset_business.json to yelp_academic_dataset_business.csv"
       ]
      },
      {
       "output_type": "stream",
       "stream": "stdout",
       "text": [
        "\n",
        "Converting yelp_academic_dataset_checkin.json to yelp_academic_dataset_checkin.csv"
       ]
      },
      {
       "output_type": "stream",
       "stream": "stdout",
       "text": [
        "\n",
        "Converting yelp_academic_dataset_review.json to yelp_academic_dataset_review.csv"
       ]
      },
      {
       "output_type": "stream",
       "stream": "stdout",
       "text": [
        "\n",
        "Converting yelp_academic_dataset_tip.json to yelp_academic_dataset_tip.csv"
       ]
      },
      {
       "output_type": "stream",
       "stream": "stdout",
       "text": [
        "\n",
        "Converting yelp_academic_dataset_user.json to yelp_academic_dataset_user.csv"
       ]
      },
      {
       "output_type": "stream",
       "stream": "stdout",
       "text": [
        "\n"
       ]
      }
     ],
     "prompt_number": 9
    },
    {
     "cell_type": "code",
     "collapsed": false,
     "input": [
      "%load_ext rmagic\n",
      "import rpy2 as Rpy"
     ],
     "language": "python",
     "metadata": {},
     "outputs": [],
     "prompt_number": 3
    },
    {
     "cell_type": "code",
     "collapsed": false,
     "input": [
      "%%R -w 800 -h 800\n",
      "\n",
      "# Explore business dataset\n",
      "\n",
      "data <- read.csv(\"yelp_academic_dataset_user.csv\", stringsAsFactors = TRUE)\n",
      "cat(\"Dimension:\\n\"); print(dim(data))\n",
      "cat(\"Summary of user dataset:\\n\"); print(summary(data))\n",
      "\n",
      "#data_sample <- sample(data, 1000)\n",
      "data_sample <- data[sample(nrow(data), 3500, replace = FALSE, prob = NULL),]\n"
     ],
     "language": "python",
     "metadata": {},
     "outputs": [
      {
       "metadata": {},
       "output_type": "display_data",
       "text": [
        "Dimension:\n",
        "[1] 70817    23\n",
        "Summary of user dataset:\n",
        " average_stars   compliments_cool   compliments_cute  compliments_funny\n",
        " Min.   :0.000   Min.   :    1.00   Min.   :   1.00   Min.   :   1.00  \n",
        " 1st Qu.:3.290   1st Qu.:    1.00   1st Qu.:   1.00   1st Qu.:   1.00  \n",
        " Median :3.880   Median :    3.00   Median :   1.00   Median :   2.00  \n",
        " Mean   :3.737   Mean   :   37.58   Mean   :   9.33   Mean   :  27.55  \n",
        " 3rd Qu.:4.500   3rd Qu.:   10.00   3rd Qu.:   4.00   3rd Qu.:   7.00  \n",
        " Max.   :5.000   Max.   :10465.00   Max.   :1241.00   Max.   :6653.00  \n",
        "                 NA's   :56476      NA's   :66304     NA's   :61710    \n",
        " compliments_hot   compliments_list  compliments_more  compliments_note\n",
        " Min.   :   1.00   Min.   :   1.00   Min.   :   1.00   Min.   :   1.0  \n",
        " 1st Qu.:   1.00   1st Qu.:   1.00   1st Qu.:   1.00   1st Qu.:   1.0  \n",
        " Median :   2.00   Median :   2.00   Median :   2.00   Median :   2.0  \n",
        " Mean   :  38.01   Mean   :   8.75   Mean   :   6.16   Mean   :  15.9  \n",
        " 3rd Qu.:   9.00   3rd Qu.:   6.00   3rd Qu.:   3.00   3rd Qu.:   5.0  \n",
        " Max.   :6997.00   Max.   :1362.00   Max.   :1947.00   Max.   :4137.0  \n",
        " NA's   :60386     NA's   :68281     NA's   :62634     NA's   :55630   \n",
        " compliments_photos compliments_plain  compliments_profile compliments_writer\n",
        " Min.   :   1       Min.   :    1.00   Min.   :   1.0      Min.   :   1.00   \n",
        " 1st Qu.:   1       1st Qu.:    1.00   1st Qu.:   1.0      1st Qu.:   1.00   \n",
        " Median :   2       Median :    2.00   Median :   1.0      Median :   2.00   \n",
        " Mean   :  19       Mean   :   39.03   Mean   :  10.8      Mean   :  17.03   \n",
        " 3rd Qu.:   5       3rd Qu.:    7.00   3rd Qu.:   4.0      3rd Qu.:   6.00   \n",
        " Max.   :6295       Max.   :11398.00   Max.   :3002.0      Max.   :3909.00   \n",
        " NA's   :65550      NA's   :55737      NA's   :67336       NA's   :60133     \n",
        "                                                                     elite      \n",
        " [,]                                                                    :65809  \n",
        " [,2,0,1,2,,, ,2,0,1,3,,, ,2,0,1,4,]                                    :  677  \n",
        " [,2,0,1,3,,, ,2,0,1,4,]                                                :  462  \n",
        " [,2,0,1,1,,, ,2,0,1,2,,, ,2,0,1,3,,, ,2,0,1,4,]                        :  436  \n",
        " [,2,0,1,0,,, ,2,0,1,1,,, ,2,0,1,2,,, ,2,0,1,3,,, ,2,0,1,4,]            :  413  \n",
        " [,2,0,0,9,,, ,2,0,1,0,,, ,2,0,1,1,,, ,2,0,1,2,,, ,2,0,1,3,,, ,2,0,1,4,]:  227  \n",
        " (Other)                                                                : 2793  \n",
        "      fans         \n",
        " Min.   :   0.000  \n",
        " 1st Qu.:   0.000  \n",
        " Median :   0.000  \n",
        " Mean   :   1.619  \n",
        " 3rd Qu.:   0.000  \n",
        " Max.   :1172.000  \n",
        "                   \n",
        "                                                  friends            name      \n",
        " [,]                                                  :40562   David   :  733  \n",
        " [,u,',f,H,v,7,k,5,v,W,d,6,r,y,t,8,j,H,4,J,3,t,e,g,',]:   98   John    :  712  \n",
        " [,u,',c,R,y,N,I,C,H,0,m,h,j,x,a,g,v,S,y,V,r,6,0,Q,',]:   88   Michael :  700  \n",
        " [,u,',f,c,z,Q,C,S,m,a,W,F,7,8,t,o,L,E,m,b,0,Z,s,w,',]:   62   Chris   :  680  \n",
        " [,u,',S,E,D,F,p,R,4,o,M,P,K,q,X,M,j,b,J,i,M,G,o,g,',]:   49   Mike    :  622  \n",
        " [,u,',B,V,8,c,4,Q,Z,E,z,v,P,W,A,0,0,Z,q,J,p,-,j,Q,',]:   46   Jennifer:  581  \n",
        " (Other)                                              :29912   (Other) :66789  \n",
        "  review_count      type                         user_id     \n",
        " Min.   :   1.0   user:70817   __6ThELn9arOmEfa4vqR2Q:    1  \n",
        " 1st Qu.:   2.0                __7iSC6XCyWW4pHd8Cz0SQ:    1  \n",
        " Median :   6.0                __8Qi30fRr3gByvffDBlRg:    1  \n",
        " Mean   :  33.7                __b7YV2PZCin-nL2KC4RKg:    1  \n",
        " 3rd Qu.:  18.0                __FXEOrWIjXMOElz2pGlBQ:    1  \n",
        " Max.   :3286.0                __i-_pFLWJJTO8mc7c5kBw:    1  \n",
        "                               (Other)               :70811  \n",
        "   votes_cool        votes_funny        votes_useful      yelping_since  \n",
        " Min.   :    0.00   Min.   :    0.00   Min.   :    0.00   2011-07: 1600  \n",
        " 1st Qu.:    0.00   1st Qu.:    0.00   1st Qu.:    1.00   2011-03: 1539  \n",
        " Median :    1.00   Median :    1.00   Median :    5.00   2011-02: 1487  \n",
        " Mean   :   41.75   Mean   :   35.94   Mean   :   67.22   2011-05: 1463  \n",
        " 3rd Qu.:    6.00   3rd Qu.:    5.00   3rd Qu.:   19.00   2011-06: 1455  \n",
        " Max.   :23835.00   Max.   :25159.00   Max.   :27320.00   2010-07: 1436  \n",
        "                                                          (Other):61837  \n"
       ]
      }
     ],
     "prompt_number": 24
    },
    {
     "cell_type": "code",
     "collapsed": false,
     "input": [
      "%%R -w 600 -h 600\n",
      "\n",
      "library(MASS)\n",
      "\n",
      "\n",
      "#print(data_sample$average_stars)\n",
      "hist(data_sample$average_stars, xlab=\"Average Stars\", ylab=\"Frequency\", main=\"Average Stars\", breaks=15, col=\"blue\")\n",
      "\n",
      "#print(data_sample[,1])\n",
      "\n",
      "avg_stars = data_sample[,1]\n",
      "str(avg_stars)\n",
      "chisq_param = fitdistr(avg_stars, \"chi-squared\", start=list(df=1))\n",
      "print(chisq_param)\n",
      "curve(dchisq(x, df=4.6), col=\"red\", add=TRUE)"
     ],
     "language": "python",
     "metadata": {},
     "outputs": [
      {
       "metadata": {},
       "output_type": "display_data",
       "text": [
        " num [1:3500] 4 2.75 1 3.74 4.5 4.5 3.43 3.5 4 4.29 ...\n",
        "       df    \n",
        "  4.46718750 \n",
        " (0.04508065)\n"
       ]
      },
      {
       "metadata": {},
       "output_type": "display_data",
       "png": "[encoded data removed]"
      }
     ],
     "prompt_number": 64
    },
    {
     "cell_type": "code",
     "collapsed": false,
     "input": [],
     "language": "python",
     "metadata": {},
     "outputs": []
    }
   ],
   "metadata": {}
  }
 ]
}