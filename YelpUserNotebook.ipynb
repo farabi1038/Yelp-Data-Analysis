{
 "metadata": {
  "name": "",
  "signature": "sha256:6c319275f49ab47fa9e18d55d9c0ce3680ccedbce197c94bbc87764a473ea3a8"
 },
 "nbformat": 3,
 "nbformat_minor": 0,
 "worksheets": [
  {
   "cells": [
    {
     "cell_type": "code",
     "collapsed": false,
     "input": [
      "%load_ext rmagic\n",
      "\n",
      "import rpy2 as Rpy\n"
     ],
     "language": "python",
     "metadata": {},
     "outputs": [
      {
       "output_type": "stream",
       "stream": "stdout",
       "text": [
        "The rmagic extension is already loaded. To reload it, use:\n",
        "  %reload_ext rmagic\n"
       ]
      }
     ],
     "prompt_number": 61
    },
    {
     "cell_type": "code",
     "collapsed": false,
     "input": [
      "%%R\n",
      "data_user <- read.csv(\"yelp_academic_dataset_user.csv\", stringsAsFactors=FALSE)\n",
      "cat(\"Dimension of user dataset:\\n\"); print(dim(data_user))\n",
      "cat(\"Summary of user dataset:\\n\"); print(names(data_user))\n"
     ],
     "language": "python",
     "metadata": {},
     "outputs": [
      {
       "metadata": {},
       "output_type": "display_data",
       "text": [
        "Dimension of user dataset:\n",
        "[1] 70817    23\n",
        "Summary of user dataset:\n",
        " [1] \"average_stars\"       \"compliments_cool\"    \"compliments_cute\"   \n",
        " [4] \"compliments_funny\"   \"compliments_hot\"     \"compliments_list\"   \n",
        " [7] \"compliments_more\"    \"compliments_note\"    \"compliments_photos\" \n",
        "[10] \"compliments_plain\"   \"compliments_profile\" \"compliments_writer\" \n",
        "[13] \"elite\"               \"fans\"                \"friends\"            \n",
        "[16] \"name\"                \"review_count\"        \"type\"               \n",
        "[19] \"user_id\"             \"votes_cool\"          \"votes_funny\"        \n",
        "[22] \"votes_useful\"        \"yelping_since\"      \n"
       ]
      }
     ],
     "prompt_number": 62
    },
    {
     "cell_type": "code",
     "collapsed": false,
     "input": [
      "%%R\n",
      "indices=data_user$friends!=\"[,]\"\n",
      "data_user_f <-data_user[indices,]\n",
      "cat(\"Dimension of user dataset  w/ friends:\\n\"); print(dim(data_user_f))"
     ],
     "language": "python",
     "metadata": {},
     "outputs": [
      {
       "metadata": {},
       "output_type": "display_data",
       "text": [
        "Dimension of user dataset  w/ friends:\n",
        "[1] 30255    23\n"
       ]
      }
     ],
     "prompt_number": 71
    },
    {
     "cell_type": "code",
     "collapsed": false,
     "input": [
      "%%R\n",
      "data_sample <- data_user_f[sample(nrow(data_user_f), 100, replace = FALSE, prob = NULL),] #sampling a small # to make test graph\n",
      "\n",
      "cat(\"Dimension of user dataset sample w/ friends:\\n\"); print(dim(data_sample))\n",
      "cat(\"Summary of user dataset sample w/ friends:\\n\"); print(names(data_sample))\n",
      "#print (data_sample$friends)\n",
      "\n",
      "##PREPROCESSING\n",
      "keeps <- c(\"user_id\",\"friends\")\n",
      "friend_list <- data_sample[keeps]\n",
      "friend_list$friends<-gsub(',', '', friend_list$friends, ignore.case = FALSE, perl = FALSE,\n",
      "     fixed = FALSE, useBytes = FALSE)\n",
      "friend_list$friends<-gsub(\"u'\", \"\", friend_list$friends, ignore.case = FALSE, perl = FALSE,\n",
      "     fixed = FALSE, useBytes = FALSE)\n",
      "friend_list$friends<-gsub(\"'\", \",\", friend_list$friends, ignore.case = FALSE, perl = FALSE,\n",
      "     fixed = FALSE, useBytes = FALSE)\n",
      "friend_list$friends<-gsub(\",]\", \"\", friend_list$friends, ignore.case = FALSE, perl = FALSE,\n",
      "     fixed = FALSE, useBytes = FALSE)\n",
      "friend_list$friends<-gsub(\"\\\\[\", \"\", friend_list$friends, ignore.case = FALSE, perl = FALSE,\n",
      "     fixed = FALSE, useBytes = FALSE)\n",
      "\n",
      "\n",
      "print(head(friend_list))"
     ],
     "language": "python",
     "metadata": {},
     "outputs": [
      {
       "metadata": {},
       "output_type": "display_data",
       "text": [
        "Dimension of user dataset sample w/ friends:\n",
        "[1] 100  23\n",
        "Summary of user dataset sample w/ friends:\n",
        " [1] \"average_stars\"       \"compliments_cool\"    \"compliments_cute\"   \n",
        " [4] \"compliments_funny\"   \"compliments_hot\"     \"compliments_list\"   \n",
        " [7] \"compliments_more\"    \"compliments_note\"    \"compliments_photos\" \n",
        "[10] \"compliments_plain\"   \"compliments_profile\" \"compliments_writer\" \n",
        "[13] \"elite\"               \"fans\"                \"friends\"            \n",
        "[16] \"name\"                \"review_count\"        \"type\"               \n",
        "[19] \"user_id\"             \"votes_cool\"          \"votes_funny\"        \n",
        "[22] \"votes_useful\"        \"yelping_since\"      \n",
        "                     user_id\n",
        "62390 QHdHXy73PHc-XDGP7vvQlg\n",
        "50745 TQ5eVGOFr_qB5_BbEd3Sow\n",
        "47918 eBFXojgTo2SWLtzv7jJlxQ\n",
        "52878 EAikdb0DiMxfEXXOS9JjVg\n",
        "54829 NprUAykoKh26AFki4H8AeA\n",
        "25669 uw9D-gJsrHxzvrTssjpRug\n",
        "                                                                                                                                                                                                                                                                                                                                                                                                                                                                                                                                                                                                                                                                                                                                                                                                                                                                                                                                                                                                                                                                                                                                                                                                                                                                                                                                                                                                                                                                                                                                                                                                                                                                                                                                                                                                                                                                                                                                                                                                                                                                                                                                                                                                                                                                                             friends\n",
        "62390                                                                                                                                                                                                                                                                                                                                                                                                                                                                                                                                                                                                                                                                                                                                                                                                                                                                                                                                                                                                                                                                                                                                                                                                                                                                                                                                                                                                                                                                                                                                                                                                                                                                                                                                                                                                                                                                                                                                                                                                                                                                         C6IOtaaYdLIT5fWd7ZYIuA, AZuSSh8xMwLtoapGa02WZQ, k_qZ47wApoqNwl7uNiiOBA, bXco3thg3tUuG_S5Nas8JQ, 8dbRf1UsWp2ktXHZ6Zv06w, BV8c4QZEzvPWA00ZqJp-jQ, fHv7k5vWd6ryt8jH4J3teg, lmiDCrmas8TxRsbIGZX9Pg, NqmtQzXNDlZ8fyklc55wjA\n",
        "50745                                                                                                                                                                                                                                                                                                                                                                                                                                                                                                                                                                                                                                                                                                                                                                                                                                                                                                                                                                                                                                                                         rpOyqD_893cqmDAtJLbdog, uZbTb-u-GVjTa2gtQfry5g, kGgAARL2UmvCcTRfiscjug, z5g5Lclwt13_BO0BStohMA, pmN_7O8l7hjPr6VH5LEdbQ, knmEdcGy99PaTS9TWJN7-w, q9XgOylNsSbqZqF_SO3-OQ, cc32R3hFVXp4H9hl6oRdKg, xgrNgHOs8F5JvEX38IeCJg, -Dof9NwAoQwRM-GVPZk5zw, GubdNFoDAsiwE6bWIr97cQ, saiZmxzBIowJbMgPBW1Now, 7VzHa15hP3va6dEtE3M3Yg, NnX4Pq_pibIt_1GSi-fx1w, _wY1dHBXKN4NjB5IsIk4eQ, iygvTIY948IIA3TDtmUgvw, CUUpi7gtqx1zojEGJ6Z5ew, 1cXrR3PEokniKrVDHzF2yA, bM2OTIopnFoaQGLxK2PxPg, bLU-JK1dAmSnztxWgFjWCw, 7C-jyTrOX-iJ-MrSJuh-8A, hIdHh1YBy7gHnSWXyb9ctg, 4HVJGaN2l3i-yk1cdoq4QQ, geh4waxniwq0J73Rrf1Oog, bOcVg6WlepPLoeV_eQ2mqg, Gb74e3NProDiMq88JGvjpw, ydaYTc4HzEbByz4HhNzC0w, xZvRLPJ1ixhFVomkXSfXAw, i2TRnWtvxxwJuynRKrw35Q, 8dbRf1UsWp2ktXHZ6Zv06w, CCHwJoIWLRhxqIcwRJW6ag, zw7zabEyNpfdEwa9tT_ZYw, 1BW2HC851fJKPfJeQxjkTA, BH0h6NgDWu33ntH4WEFy1A, 6ZXbTu3isjKoD42_iKOhqA, 0Jlviq1YD76N-WK_GUeDMw, BWo7K_QGZCO2PG1osiwRuQ, cRyNICH0mhjxagvSyVr60Q, BRydUrmdK4pZsbUvZ8tBAw, rIkxXjBKAeKKSYfLMgocLA, ZW8jy6ehrNzn9A5iCubVGg, LMX-pZA7SHwmoby1LAk_UQ, WxeD74JGiwjljzHndYSvmw, hyUC687R-bhV6dy2Vvio1g, RsUNADZTrJ5xFXVMXJC1MQ, EjroPHL4TUaB6tqs3CeofA, LS1CRfOX3ydk7xkkCUYgmQ, qh_q-YZzSfOt3iJAXaykrg, KnDlTIgDpFJbrUJSgBCgDA\n",
        "47918 huTDGf8mt5cfKkIcUuSSdw, 90a6z--_CUrl84aCzZyPsg, YIjGrzJRQVpoZNl1rGXQ9A, l81ILmOhky5bG7o4r3rkhQ, akMGLz_YlrolnylagR-1WQ, p9yH_eQC3C75_Q6cOTTwwA, y-w2Lh9FWlC0d-3jx6GwBw, i0A-c2yoHySmFhRV2sDR1g, pxSJnxAYE6PwUiyvMIWSjg, qbhWU6Wn0zvVVct1HkT_GQ, kbuns26zGsPDtmph6S1FbA, CdLftBll7-QXTYHtMYlINA, b0a6nLH0c8p5WJy1w7aO6Q, 1CPQ94dZcM-4-3b1u74ttQ, 6JdSXe3VoRE9wMawAdNJ8A, wN05bLB486m30Zd-X7BhuQ, cIJzKFwvBSnh0rmP7m_i7Q, nv0S1XWvOtaOp2Xt1JMerA, 7ovr23oa6bAsN3EL55zvxw, TEd3ZbEeEj-tmu7nyfLQjw, jB_tZ641WMpp1Hve7Jblaw, a1UWPjQnv1cyBhHXE0qM8w, 5xswyDHUYkv4CRZqeDIb9g, g8up_FWF-A5JQjuUJ_VsWw, 0B72lj8x6TXrKuAYpaHL3w, mSyCw4WTV3oLtTtRE-uylQ, 8SFpYIJed0i6NMr_2rYJhg, js3dCw3Sv6ZUcdfqJw6GAw, NNdfPF-UhvLB8FxbsuSC5A, DnEn4DrIdhLqm9y6frQmvQ, m5-3onu1zp4l50V-PmZKgg, RU8NsWNhI6R5OlDLR-SKOA, lNSsvZo-aOXUbmFhsS3xpw, SH7jHJXak-R7-6zj5KKvrg, DfsrWRuuiET_-CEupb5NdA, 527wnAX04alHGW1pJK21mQ, 4eHnTjh9SjWQYqJwD9poeQ, CCL4t7fUSyqDGk9yFJw-Tw, lMS9mDMkdKZQ79NBot8srQ, S4dIIS75CscGEaJSfeWIkQ, XiV696C2EHJ2kLwr5miHlw, ZFmzVP4mAheoaNIWAWhf4w, Lp2G664ePG-JFxwXZQtm8Q, v2UqlUHA8d3lgTIby0CCFQ, EeLx1BRKjdTZ4jlX7A0GDg, wAJuCyUiFjE8Hp9gU_GZlw, APYc5utwzwVZrFAMv__nSg, J76z7gzmpM9B766vmRRukA, 87mUb5NEfTo1FdJ714LZGQ, njyqdZryeHBwD7LdRN9Epg, XqDh0QDMoMAaBvJcakze5A, cQ-5Ns1Xi1Ne_quGwf-scA, 0Wr1r1cma5uaH865CYyWdw, rxQhpWH-wOV7RoT4iMkMQA, laA6wsTDW-e67MeD3SNCdw, q9V3RboY327jGyFAdCt1Zw, Dl7IPpFgteOrpw0g3NBbhg, 6JG_o0l1ZTFR1Igk3f5GKw, rGPa4J33qlCfkP-f-fOqmw, vXXZQ2l52jXOSCE3-cwj6w, 0sqJ3h7sxqaEvqNzO2b29Q, iGqazZVwHce1S0CwI07GrA, 7pCE0FpuFWtC8o9oDBr-JQ, yvGQ23bnYrb71d-LKubP_Q, UgYrW9Gx_GOD7Bys8qe6yQ, 82tSm6A56DMQgE9mSR91AA, vynHUkNRnqlWyuaCM9NZcQ, I0wrF0tgrd4PsFhIASNwLw, dlF4FIV9QD9ZL3AP4eig5A, OfBO9TLxfdk5oKVzBJWzXg, Lo2-ynQg1nz5lSKCdHZDnQ, bqM1_ikS6hHdxhX68VSd8Q, _HaPc46S-x_NLlqljMZ1UA, RWwYQBYKdnn6_RFceitaLw, 5L2aTtkkZf5NAsedIdgibA, zulNp3NWnv7sYODNZ1Xrow, 9V2CLy3msZxNTlUsqADIEA, iHCv55JuoIPy-qMF0Sa6TA, UC3J_qeGFpZ9EHVd2dI0vg, vCvtdiwIR52fnByQH7ciZA, T14AJwqpdy9s5AzOm2PpOQ, 2c3QAldl37BihSe2-MhjPQ, o0kIVqSyB8gLtAXts_MM3g, vtrF2x43iXwzIVWP9bmo2g, uPGFm_zkrABiLIcs52L7JQ, 8V1_ojPiBRNFmpZZy83EmA, 8oiIZYQnHtlhwdMvsFwdPg, G2j77mz1acbOeZbhpFLXQQ, 1engYTOKgpNsWP66aWdl_Q, t-u5ERv0xJ_u8OuyDZdGqQ, l0K666fe7SZn1cu36ymQtQ, sb6HoKE8u7pHwO-eIbJtDg\n",
        "52878                                                                                                                                                                                                                                                                                                                                                                                                                                                                                                                                                                                                                                                                                                                                                                                                                                                                                                                                                                                                                                                                                                                                                                                                                                                                                                                                                                                                                                                                                                                         XA_lIArLNis1tzrqSywzHQ, K2TQ1HBU51Y8i6MCDI7gLQ, mXUGqzUsJcx___b0y72BZA, pU2lBD_W3VNvpzKZsRzi2A, 6NC-j_7tfBnK9NU-sdNFxA, itWDC1MoquLplv0uIn36xQ, PY_BOIHNK1tPu2kgHCifOA, xNb8pFe99ENj8BeMsCBPcQ, 7x_veK3owaudG7_8EJCJVw, saaeNi0aB_-CbPOYNyYG7Q, WquqU5s77m7O3-DpkZErYg, UxqUq_Gq9XfPXbdzUcVhng, cp5WqSxk8f_LBq-cdZAg-A, 1R-XppdHQ0TtGq6E8oQVZA, wHuNShghOlL4qaH9m9RgPg, DUE3dksgt7x-aYBANqEYNQ, hG1oNdsgO4jFwI5LY1I8xg, Xne63K4GZ1fTVh86vdk35g, 5YrxWfIe4yguL83w8qoGqg, _KwrKjkyj4RtkRQAfKpuyg, uOdEsOgPW48Ky4j8U8CEcw, tg3dhQN6xwbDh8wUgRB9Gg, AZsokjYw4SwV6QLzcASs4Q, AMqz-URZwF-LPjEJ2qKLzw, pqmv0ax9RxNrnx9uTQYZOw, XOST6fNtPAUg_0JJo5ai6w, LV4-CQ9xUgyjrCvym0gilw, NM7eMwoC0dluaROM1rTbGA, Ov9oOxOibkjl4BYZoyvG6Q, vGyiE_JJ1N-Gu--SpXKIIQ, N1ctqiRDhhE11b-v2qPM3Q\n",
        "54829                                                                                                                                                                                                                                                                                                                                                                                                                                                                                                                                                                                                                                                                                                                                                                                                                                                                                                                                                                                                                                                                                                                                                                                                                                                                                                                                                                                                                                                                                                                                                                                                                                                                                                                                                                                                                                                                                                                                                                                                                                                                                                                                                                                                                                                                         Dj3JQkvO6Jj0g7r53_BcRQ\n",
        "25669                                                                                                                                                                                                                                                                                                                                                                                                                                                                                                                                                                                                                                                                                                                                                                                                                                                                                                                                                                                                                                                                                                                                                                                                                                                                                                                                                                                                                                                                                                                                                                                                                                                                                                                                                                                                                                                                                                                                                                                                                                                                                                                                                                                                                                                                         7Cq3CYEjIGvgxQZi8IJHRA\n"
       ]
      }
     ],
     "prompt_number": 60
    },
    {
     "cell_type": "code",
     "collapsed": false,
     "input": [
      "import numpy\n",
      "import networkx as nx\n",
      "%R -o friend_list\n",
      "print(type(friend_list))\n",
      "users = friend_list[0]\n",
      "friends_of_users = friend_list[1]\n",
      "all_nodes = []\n",
      "adj_list = []\n",
      "for user in users:\n",
      "    all_nodes.append(user)\n",
      "for friend in friends_of_users:\n",
      "    adj_list.append(friend.split(', '))\n",
      "for list in adj_list:\n",
      "    for person in list:\n",
      "        for char in person:\n",
      "            if char in \",\":\n",
      "                person = person.replace(char,\"\")\n",
      "                all_nodes.append(person)\n",
      "print(all_nodes[0:2])\n",
      "print(adj_list[0:2])"
     ],
     "language": "python",
     "metadata": {},
     "outputs": [
      {
       "output_type": "stream",
       "stream": "stdout",
       "text": [
        "<type 'numpy.ndarray'>\n",
        "['QHdHXy73PHc-XDGP7vvQlg', 'TQ5eVGOFr_qB5_BbEd3Sow']\n",
        "[['C6IOtaaYdLIT5fWd7ZYIuA', 'AZuSSh8xMwLtoapGa02WZQ', 'k_qZ47wApoqNwl7uNiiOBA', 'bXco3thg3tUuG_S5Nas8JQ', '8dbRf1UsWp2ktXHZ6Zv06w', 'BV8c4QZEzvPWA00ZqJp-jQ', 'fHv7k5vWd6ryt8jH4J3teg', 'lmiDCrmas8TxRsbIGZX9Pg', 'NqmtQzXNDlZ8fyklc55wjA'], ['rpOyqD_893cqmDAtJLbdog', 'uZbTb-u-GVjTa2gtQfry5g', 'kGgAARL2UmvCcTRfiscjug', 'z5g5Lclwt13_BO0BStohMA', 'pmN_7O8l7hjPr6VH5LEdbQ', 'knmEdcGy99PaTS9TWJN7-w', 'q9XgOylNsSbqZqF_SO3-OQ', 'cc32R3hFVXp4H9hl6oRdKg', 'xgrNgHOs8F5JvEX38IeCJg', '-Dof9NwAoQwRM-GVPZk5zw', 'GubdNFoDAsiwE6bWIr97cQ', 'saiZmxzBIowJbMgPBW1Now', '7VzHa15hP3va6dEtE3M3Yg', 'NnX4Pq_pibIt_1GSi-fx1w', '_wY1dHBXKN4NjB5IsIk4eQ', 'iygvTIY948IIA3TDtmUgvw', 'CUUpi7gtqx1zojEGJ6Z5ew', '1cXrR3PEokniKrVDHzF2yA', 'bM2OTIopnFoaQGLxK2PxPg', 'bLU-JK1dAmSnztxWgFjWCw', '7C-jyTrOX-iJ-MrSJuh-8A', 'hIdHh1YBy7gHnSWXyb9ctg', '4HVJGaN2l3i-yk1cdoq4QQ', 'geh4waxniwq0J73Rrf1Oog', 'bOcVg6WlepPLoeV_eQ2mqg', 'Gb74e3NProDiMq88JGvjpw', 'ydaYTc4HzEbByz4HhNzC0w', 'xZvRLPJ1ixhFVomkXSfXAw', 'i2TRnWtvxxwJuynRKrw35Q', '8dbRf1UsWp2ktXHZ6Zv06w', 'CCHwJoIWLRhxqIcwRJW6ag', 'zw7zabEyNpfdEwa9tT_ZYw', '1BW2HC851fJKPfJeQxjkTA', 'BH0h6NgDWu33ntH4WEFy1A', '6ZXbTu3isjKoD42_iKOhqA', '0Jlviq1YD76N-WK_GUeDMw', 'BWo7K_QGZCO2PG1osiwRuQ', 'cRyNICH0mhjxagvSyVr60Q', 'BRydUrmdK4pZsbUvZ8tBAw', 'rIkxXjBKAeKKSYfLMgocLA', 'ZW8jy6ehrNzn9A5iCubVGg', 'LMX-pZA7SHwmoby1LAk_UQ', 'WxeD74JGiwjljzHndYSvmw', 'hyUC687R-bhV6dy2Vvio1g', 'RsUNADZTrJ5xFXVMXJC1MQ', 'EjroPHL4TUaB6tqs3CeofA', 'LS1CRfOX3ydk7xkkCUYgmQ', 'qh_q-YZzSfOt3iJAXaykrg', 'KnDlTIgDpFJbrUJSgBCgDA']]\n"
       ]
      }
     ],
     "prompt_number": 83
    },
    {
     "cell_type": "code",
     "collapsed": false,
     "input": [
      "import networkx as nx\n",
      "\n",
      "G=nx.Graph()\n",
      "\n",
      "# adding just one node:\n",
      "G.add_node(\"a\")\n",
      "# a list of nodes:\n",
      "G.add_nodes_from([\"b\",\"c\"])\n",
      "\n",
      "print(\"Nodes of graph: \")\n",
      "print(G.nodes())\n",
      "print(\"Edges of graph: \")\n",
      "print(G.edges())"
     ],
     "language": "python",
     "metadata": {},
     "outputs": [
      {
       "output_type": "stream",
       "stream": "stdout",
       "text": [
        "Nodes of graph: \n",
        "['a', 'c', 'b']\n",
        "Edges of graph: \n",
        "[]\n"
       ]
      }
     ],
     "prompt_number": 77
    },
    {
     "cell_type": "code",
     "collapsed": false,
     "input": [],
     "language": "python",
     "metadata": {},
     "outputs": []
    }
   ],
   "metadata": {}
  }
 ]
}